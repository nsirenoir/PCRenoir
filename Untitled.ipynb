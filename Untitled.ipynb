{
 "cells": [
  {
   "cell_type": "code",
   "execution_count": null,
   "id": "be985e81-9a59-434d-849a-34eb05c0566d",
   "metadata": {},
   "outputs": [],
   "source": [
    "print('coucou')\n"
   ]
  },
  {
   "cell_type": "markdown",
   "id": "2538191b-a2d0-48ad-8450-84f3fc971dec",
   "metadata": {},
   "source": [
    "# Ceci est un test\n",
    "\n",
    "## Un exemple\n",
    "\n",
    "Sans titre\n"
   ]
  },
  {
   "cell_type": "code",
   "execution_count": null,
   "id": "5d8083c9-6122-48d7-98e7-7121f48c96d6",
   "metadata": {},
   "outputs": [],
   "source": [
    "print('salut')"
   ]
  },
  {
   "cell_type": "code",
   "execution_count": 3,
   "id": "878d456c-bd2a-4de8-a923-b1c7b4afbbd1",
   "metadata": {},
   "outputs": [
    {
     "data": {
      "application/vnd.jupyter.widget-view+json": {
       "model_id": "fafc1a3f8d0f4895a6496d58b413f38f",
       "version_major": 2,
       "version_minor": 0
      },
      "text/plain": [
       "Textarea(value=\"\\ndef add(a, b):\\n    # Completez la fonction pour qu'elle retourne la somme de a et b\\n\", lay…"
      ]
     },
     "metadata": {},
     "output_type": "display_data"
    },
    {
     "data": {
      "application/vnd.jupyter.widget-view+json": {
       "model_id": "a161d98e476b4613995e1243805a1b9f",
       "version_major": 2,
       "version_minor": 0
      },
      "text/plain": [
       "Textarea(value='', layout=Layout(height='200px', width='100%'), placeholder='Entrez votre code ici...')"
      ]
     },
     "metadata": {},
     "output_type": "display_data"
    },
    {
     "data": {
      "application/vnd.jupyter.widget-view+json": {
       "model_id": "2c2fb6d3611f45c8bac3d2bb003a80fa",
       "version_major": 2,
       "version_minor": 0
      },
      "text/plain": [
       "Button(description='Exécuter le code', style=ButtonStyle())"
      ]
     },
     "metadata": {},
     "output_type": "display_data"
    },
    {
     "data": {
      "application/vnd.jupyter.widget-view+json": {
       "model_id": "f9bd97c345794f108bfef5ef98a26ca3",
       "version_major": 2,
       "version_minor": 0
      },
      "text/plain": [
       "Output()"
      ]
     },
     "metadata": {},
     "output_type": "display_data"
    }
   ],
   "source": [
    "import ipywidgets as widgets\n",
    "from IPython.display import display, clear_output\n",
    "\n",
    "# Code partiel fourni par l'enseignant\n",
    "code_intro = \"\"\"\n",
    "def add(a, b):\n",
    "    # Completez la fonction dans le cadre suivant pour qu'elle retourne la somme de a et b\n",
    "\"\"\"\n",
    "\n",
    "# Widget pour afficher le code partiel\n",
    "code_widget = widgets.Textarea(value=code_intro, placeholder='Completez le code ici...', layout=widgets.Layout(width='100%', height='50px'))\n",
    "display(code_widget)\n",
    "\n",
    "# Zone de texte pour entrer le code manquant\n",
    "code_input = widgets.Textarea(placeholder='Entrez votre code ici...', layout=widgets.Layout(width='100%', height='200px'))\n",
    "display(code_input)\n",
    "\n",
    "# Bouton pour exécuter le code\n",
    "run_button = widgets.Button(description='Exécuter le code')\n",
    "output = widgets.Output()\n",
    "display(run_button, output)\n",
    "\n",
    "def run_code(b):\n",
    "    user_code = code_intro + '\\n' + code_input.value\n",
    "    local_vars = {}\n",
    "    with output:\n",
    "        clear_output()\n",
    "        try:\n",
    "            exec(user_code, globals(), local_vars)\n",
    "            # Tester la fonction add\n",
    "            result = local_vars['add'](3, 5)\n",
    "            assert result == 8, 'somme fausse'\n",
    "            print(f'add(3, 5) = {result}')\n",
    "        except Exception as e:\n",
    "            print(f'Erreur: {e}')\n",
    "\n",
    "run_button.on_click(run_code)\n"
   ]
  },
  {
   "cell_type": "code",
   "execution_count": null,
   "id": "bae07b4b-110f-4ab7-b5cf-983f41b0141f",
   "metadata": {},
   "outputs": [],
   "source": []
  }
 ],
 "metadata": {
  "kernelspec": {
   "display_name": "Python 3 (ipykernel)",
   "language": "python",
   "name": "python3"
  },
  "language_info": {
   "codemirror_mode": {
    "name": "ipython",
    "version": 3
   },
   "file_extension": ".py",
   "mimetype": "text/x-python",
   "name": "python",
   "nbconvert_exporter": "python",
   "pygments_lexer": "ipython3",
   "version": "3.12.0"
  },
  "widgets": {
   "application/vnd.jupyter.widget-state+json": {
    "state": {
     "04cc5d1656db4d7a9c55c5e93d40f133": {
      "model_module": "@jupyter-widgets/base",
      "model_module_version": "2.0.0",
      "model_name": "LayoutModel",
      "state": {}
     },
     "14f17fb698884fa38db515321df5ea61": {
      "model_module": "@jupyter-widgets/controls",
      "model_module_version": "2.0.0",
      "model_name": "ButtonStyleModel",
      "state": {
       "font_family": null,
       "font_size": null,
       "font_style": null,
       "font_variant": null,
       "font_weight": null,
       "text_color": null,
       "text_decoration": null
      }
     },
     "181eb61a482f44498ce02aec90aa7a8e": {
      "model_module": "@jupyter-widgets/base",
      "model_module_version": "2.0.0",
      "model_name": "LayoutModel",
      "state": {}
     },
     "1d303fb5fda24f2c8dded64abff57e1d": {
      "model_module": "@jupyter-widgets/base",
      "model_module_version": "2.0.0",
      "model_name": "LayoutModel",
      "state": {
       "height": "200px",
       "width": "100%"
      }
     },
     "1fb9c9086df847af95791f96b80de11c": {
      "model_module": "@jupyter-widgets/base",
      "model_module_version": "2.0.0",
      "model_name": "LayoutModel",
      "state": {}
     },
     "207422d5396144b187e1e73df1bbff16": {
      "model_module": "@jupyter-widgets/controls",
      "model_module_version": "2.0.0",
      "model_name": "TextStyleModel",
      "state": {
       "description_width": "",
       "font_size": null,
       "text_color": null
      }
     },
     "215cb9e70eb44fb190e5dc6aef1fd0c7": {
      "model_module": "@jupyter-widgets/controls",
      "model_module_version": "2.0.0",
      "model_name": "TextareaModel",
      "state": {
       "layout": "IPY_MODEL_3c30ed6cd41a4a388106da4d0bc45d7c",
       "placeholder": "Entrez votre code ici...",
       "style": "IPY_MODEL_207422d5396144b187e1e73df1bbff16",
       "value": "return a + b"
      }
     },
     "2c2fb6d3611f45c8bac3d2bb003a80fa": {
      "model_module": "@jupyter-widgets/controls",
      "model_module_version": "2.0.0",
      "model_name": "ButtonModel",
      "state": {
       "description": "Exécuter le code",
       "layout": "IPY_MODEL_181eb61a482f44498ce02aec90aa7a8e",
       "style": "IPY_MODEL_d87d4e19bc9740fb9c05acf9f5987f65",
       "tooltip": null
      }
     },
     "3b7a07494a934afc9bb0cf5092ac9fe4": {
      "model_module": "@jupyter-widgets/controls",
      "model_module_version": "2.0.0",
      "model_name": "TextareaModel",
      "state": {
       "layout": "IPY_MODEL_af9f124beade415ca1b9b4e0a4eb708f",
       "placeholder": "Completez le code ici...",
       "style": "IPY_MODEL_3ddf34f0a80c4c4488d7bd7c610c39ed",
       "value": "\ndef add(a, b):\n    # Completez la fonction pour qu'elle retourne la somme de a et b\n"
      }
     },
     "3c30ed6cd41a4a388106da4d0bc45d7c": {
      "model_module": "@jupyter-widgets/base",
      "model_module_version": "2.0.0",
      "model_name": "LayoutModel",
      "state": {
       "height": "200px",
       "width": "100%"
      }
     },
     "3ddf34f0a80c4c4488d7bd7c610c39ed": {
      "model_module": "@jupyter-widgets/controls",
      "model_module_version": "2.0.0",
      "model_name": "TextStyleModel",
      "state": {
       "description_width": "",
       "font_size": null,
       "text_color": null
      }
     },
     "3f4bc5b1b8934bb58bde6078b818eaf9": {
      "model_module": "@jupyter-widgets/output",
      "model_module_version": "1.0.0",
      "model_name": "OutputModel",
      "state": {
       "layout": "IPY_MODEL_54a6f91baa0d402f943b51a448f04198",
       "outputs": [
        {
         "name": "stdout",
         "output_type": "stream",
         "text": "Erreur: expected an indented block after function definition on line 2 (<string>, line 4)\n"
        }
       ]
      }
     },
     "41a24071651f4e8499e5fac269054cda": {
      "model_module": "@jupyter-widgets/controls",
      "model_module_version": "2.0.0",
      "model_name": "TextStyleModel",
      "state": {
       "description_width": "",
       "font_size": null,
       "text_color": null
      }
     },
     "452312dd83924d0e8fb62a8736b49464": {
      "model_module": "@jupyter-widgets/controls",
      "model_module_version": "2.0.0",
      "model_name": "TextareaModel",
      "state": {
       "layout": "IPY_MODEL_537f8288059f4cc18ebae0970c41b507",
       "placeholder": "Entrez votre code ici...",
       "style": "IPY_MODEL_41a24071651f4e8499e5fac269054cda"
      }
     },
     "4711e604b16f49099917035a74059888": {
      "model_module": "@jupyter-widgets/base",
      "model_module_version": "2.0.0",
      "model_name": "LayoutModel",
      "state": {}
     },
     "537f8288059f4cc18ebae0970c41b507": {
      "model_module": "@jupyter-widgets/base",
      "model_module_version": "2.0.0",
      "model_name": "LayoutModel",
      "state": {
       "height": "200px",
       "width": "100%"
      }
     },
     "549e7c3fc15045059a0bfac16ce5aa08": {
      "model_module": "@jupyter-widgets/base",
      "model_module_version": "2.0.0",
      "model_name": "LayoutModel",
      "state": {
       "height": "200px",
       "width": "100%"
      }
     },
     "54a6f91baa0d402f943b51a448f04198": {
      "model_module": "@jupyter-widgets/base",
      "model_module_version": "2.0.0",
      "model_name": "LayoutModel",
      "state": {}
     },
     "7cb4bc08b2e44f4082eb6f6df2548ed5": {
      "model_module": "@jupyter-widgets/controls",
      "model_module_version": "2.0.0",
      "model_name": "TextareaModel",
      "state": {
       "layout": "IPY_MODEL_1d303fb5fda24f2c8dded64abff57e1d",
       "placeholder": "Completez le code ici...",
       "style": "IPY_MODEL_d48275a209564cf092892ece1e58eb7d"
      }
     },
     "8545a792d4604e86aa2899b8f01e0c5a": {
      "model_module": "@jupyter-widgets/controls",
      "model_module_version": "2.0.0",
      "model_name": "ButtonStyleModel",
      "state": {
       "font_family": null,
       "font_size": null,
       "font_style": null,
       "font_variant": null,
       "font_weight": null,
       "text_color": null,
       "text_decoration": null
      }
     },
     "8b48459ade024a188000661af56add65": {
      "model_module": "@jupyter-widgets/controls",
      "model_module_version": "2.0.0",
      "model_name": "TextStyleModel",
      "state": {
       "description_width": "",
       "font_size": null,
       "text_color": null
      }
     },
     "9c3bfaed63db484b8f30cb9153ac3eaa": {
      "model_module": "@jupyter-widgets/controls",
      "model_module_version": "2.0.0",
      "model_name": "ButtonModel",
      "state": {
       "description": "Exécuter le code",
       "layout": "IPY_MODEL_a8b55b1100c44d91b55833accaedab0e",
       "style": "IPY_MODEL_14f17fb698884fa38db515321df5ea61",
       "tooltip": null
      }
     },
     "a161d98e476b4613995e1243805a1b9f": {
      "model_module": "@jupyter-widgets/controls",
      "model_module_version": "2.0.0",
      "model_name": "TextareaModel",
      "state": {
       "layout": "IPY_MODEL_549e7c3fc15045059a0bfac16ce5aa08",
       "placeholder": "Entrez votre code ici...",
       "style": "IPY_MODEL_8b48459ade024a188000661af56add65"
      }
     },
     "a1f8b82befef46c9b2e417b96ee9b8ed": {
      "model_module": "@jupyter-widgets/controls",
      "model_module_version": "2.0.0",
      "model_name": "SliderStyleModel",
      "state": {
       "description_width": ""
      }
     },
     "a4bebe747b5a448881e4f5a6e8fd7581": {
      "model_module": "@jupyter-widgets/output",
      "model_module_version": "1.0.0",
      "model_name": "OutputModel",
      "state": {
       "layout": "IPY_MODEL_ff93c152faa142aeb1b54c8042f3e7e7",
       "outputs": [
        {
         "data": {
          "text/plain": "10"
         },
         "metadata": {},
         "output_type": "display_data"
        }
       ]
      }
     },
     "a6b61c49379e4dddb88410cce415abdd": {
      "model_module": "@jupyter-widgets/controls",
      "model_module_version": "2.0.0",
      "model_name": "ButtonModel",
      "state": {
       "description": "Exécuter le code",
       "layout": "IPY_MODEL_e319c24548b24936a04c19f431b39c2c",
       "style": "IPY_MODEL_8545a792d4604e86aa2899b8f01e0c5a",
       "tooltip": null
      }
     },
     "a8b55b1100c44d91b55833accaedab0e": {
      "model_module": "@jupyter-widgets/base",
      "model_module_version": "2.0.0",
      "model_name": "LayoutModel",
      "state": {}
     },
     "aa812afcf40f4470a6e2432c36b143ad": {
      "model_module": "@jupyter-widgets/base",
      "model_module_version": "2.0.0",
      "model_name": "LayoutModel",
      "state": {}
     },
     "ad99c8ddf363479099a3618b30cc1861": {
      "model_module": "@jupyter-widgets/base",
      "model_module_version": "2.0.0",
      "model_name": "LayoutModel",
      "state": {
       "height": "200px",
       "width": "100%"
      }
     },
     "af9f124beade415ca1b9b4e0a4eb708f": {
      "model_module": "@jupyter-widgets/base",
      "model_module_version": "2.0.0",
      "model_name": "LayoutModel",
      "state": {
       "height": "200px",
       "width": "100%"
      }
     },
     "b3d2698ad79041dbbe4c9f72f26676c7": {
      "model_module": "@jupyter-widgets/output",
      "model_module_version": "1.0.0",
      "model_name": "OutputModel",
      "state": {
       "layout": "IPY_MODEL_aa812afcf40f4470a6e2432c36b143ad"
      }
     },
     "b4f145aed7304782b5e35e78a6e6e9db": {
      "model_module": "@jupyter-widgets/controls",
      "model_module_version": "2.0.0",
      "model_name": "TextStyleModel",
      "state": {
       "description_width": "",
       "font_size": null,
       "text_color": null
      }
     },
     "b7c4ac0aa14d4c45adc4b2179074736d": {
      "model_module": "@jupyter-widgets/controls",
      "model_module_version": "2.0.0",
      "model_name": "VBoxModel",
      "state": {
       "_dom_classes": [
        "widget-interact"
       ],
       "children": [
        "IPY_MODEL_d6866df6a3d145f18e606e6fe7468528",
        "IPY_MODEL_a4bebe747b5a448881e4f5a6e8fd7581"
       ],
       "layout": "IPY_MODEL_4711e604b16f49099917035a74059888"
      }
     },
     "d48275a209564cf092892ece1e58eb7d": {
      "model_module": "@jupyter-widgets/controls",
      "model_module_version": "2.0.0",
      "model_name": "TextStyleModel",
      "state": {
       "description_width": "",
       "font_size": null,
       "text_color": null
      }
     },
     "d6866df6a3d145f18e606e6fe7468528": {
      "model_module": "@jupyter-widgets/controls",
      "model_module_version": "2.0.0",
      "model_name": "IntSliderModel",
      "state": {
       "behavior": "drag-tap",
       "description": "x",
       "layout": "IPY_MODEL_04cc5d1656db4d7a9c55c5e93d40f133",
       "max": 30,
       "min": -10,
       "style": "IPY_MODEL_a1f8b82befef46c9b2e417b96ee9b8ed",
       "value": 10
      }
     },
     "d87d4e19bc9740fb9c05acf9f5987f65": {
      "model_module": "@jupyter-widgets/controls",
      "model_module_version": "2.0.0",
      "model_name": "ButtonStyleModel",
      "state": {
       "font_family": null,
       "font_size": null,
       "font_style": null,
       "font_variant": null,
       "font_weight": null,
       "text_color": null,
       "text_decoration": null
      }
     },
     "e319c24548b24936a04c19f431b39c2c": {
      "model_module": "@jupyter-widgets/base",
      "model_module_version": "2.0.0",
      "model_name": "LayoutModel",
      "state": {}
     },
     "f9bd97c345794f108bfef5ef98a26ca3": {
      "model_module": "@jupyter-widgets/output",
      "model_module_version": "1.0.0",
      "model_name": "OutputModel",
      "state": {
       "layout": "IPY_MODEL_1fb9c9086df847af95791f96b80de11c"
      }
     },
     "fafc1a3f8d0f4895a6496d58b413f38f": {
      "model_module": "@jupyter-widgets/controls",
      "model_module_version": "2.0.0",
      "model_name": "TextareaModel",
      "state": {
       "layout": "IPY_MODEL_ad99c8ddf363479099a3618b30cc1861",
       "placeholder": "Completez le code ici...",
       "style": "IPY_MODEL_b4f145aed7304782b5e35e78a6e6e9db",
       "value": "\ndef add(a, b):\n    # Completez la fonction pour qu'elle retourne la somme de a et b\n"
      }
     },
     "ff93c152faa142aeb1b54c8042f3e7e7": {
      "model_module": "@jupyter-widgets/base",
      "model_module_version": "2.0.0",
      "model_name": "LayoutModel",
      "state": {}
     }
    },
    "version_major": 2,
    "version_minor": 0
   }
  }
 },
 "nbformat": 4,
 "nbformat_minor": 5
}
